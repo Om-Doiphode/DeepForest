{
  "nbformat": 4,
  "nbformat_minor": 0,
  "metadata": {
    "colab": {
      "provenance": [],
      "gpuType": "T4"
    },
    "kernelspec": {
      "name": "python3",
      "display_name": "Python 3"
    },
    "language_info": {
      "name": "python"
    },
    "accelerator": "GPU"
  },
  "cells": [
    {
      "cell_type": "markdown",
      "source": [
        "## Install DeepForest library"
      ],
      "metadata": {
        "id": "7EDk5oa1rphh"
      }
    },
    {
      "cell_type": "code",
      "execution_count": null,
      "metadata": {
        "id": "ltiLeSKE9cbl"
      },
      "outputs": [],
      "source": [
        "! pip install --upgrade deepforest"
      ]
    },
    {
      "cell_type": "code",
      "source": [
        "!git clone https://github.com/weecology/DeepForest.git"
      ],
      "metadata": {
        "id": "Z2ZcgWeiAhmH"
      },
      "execution_count": null,
      "outputs": []
    },
    {
      "cell_type": "code",
      "source": [
        "%cd DeepForest\n",
        "!pip install -e .\n",
        "%cd .."
      ],
      "metadata": {
        "id": "H-Pid56NAxNE"
      },
      "execution_count": null,
      "outputs": []
    },
    {
      "cell_type": "code",
      "source": [
        "import os\n",
        "import sys\n",
        "\n",
        "deepforest_path = os.path.abspath('DeepForest')\n",
        "deepforest_path"
      ],
      "metadata": {
        "id": "yJNcfr1LAzUp"
      },
      "execution_count": null,
      "outputs": []
    },
    {
      "cell_type": "code",
      "source": [
        "if deepforest_path not in sys.path:\n",
        "    sys.path.insert(0, deepforest_path)"
      ],
      "metadata": {
        "id": "1Aabh_eYA3OV"
      },
      "execution_count": 4,
      "outputs": []
    },
    {
      "cell_type": "markdown",
      "source": [
        "## Install Comet ML for logging purpose"
      ],
      "metadata": {
        "id": "8xs91mZatepE"
      }
    },
    {
      "cell_type": "code",
      "source": [
        "!pip install comet_ml"
      ],
      "metadata": {
        "id": "aFt9LqJ5Mcx_"
      },
      "execution_count": null,
      "outputs": []
    },
    {
      "cell_type": "code",
      "source": [
        "#load the modules\n",
        "import comet_ml\n",
        "import os\n",
        "import time\n",
        "import numpy as np\n",
        "import pandas as pd\n",
        "import torch\n",
        "from deepforest import main\n",
        "from deepforest import get_data\n",
        "from deepforest import utilities\n",
        "from deepforest import preprocess\n",
        "from tqdm import tqdm\n",
        "from pytorch_lightning.loggers import CometLogger\n",
        "import zipfile\n",
        "import matplotlib.pyplot as plt"
      ],
      "metadata": {
        "id": "QiccWJYy9oK6"
      },
      "execution_count": 1,
      "outputs": []
    },
    {
      "cell_type": "markdown",
      "source": [
        "## Set up Environment Variables\n",
        "- **In Google Colab**: Use Colab's secret storage.\n",
        "    - Locate the `Secrets` tab on the left-hand side panel in your Colab notebook.\n",
        "    - Add a new secret with the key name as `COMET_API_KEY` and paste your Comet ML API key as the value.\n",
        "- **Locally**: Set an environment variable `COMET_API_KEY` in your operating system.\n",
        "\n",
        "### Setting the Environment Variable Locally\n",
        "\n",
        "#### Windows\n",
        "1. Open Command Prompt and set the environment variable:\n",
        "\n",
        "   ```bash\n",
        "   setx COMET_API_KEY \"your_comet_api_key\"\n",
        "   ```\n",
        "\n",
        "2. Restart your terminal or IDE.\n",
        "\n",
        "#### macOS/Linux\n",
        "1. Open your terminal and add the following line to your `.bashrc`, `.zshrc`, or `.profile` file:\n",
        "\n",
        "   ```bash\n",
        "   export COMET_API_KEY=\"your_comet_api_key\"\n",
        "   ```\n",
        "\n",
        "2. Save the file and reload the shell configuration:\n",
        "\n",
        "   ```bash\n",
        "   source ~/.bashrc  # or ~/.zshrc, ~/.profile, etc.\n",
        "   ```"
      ],
      "metadata": {
        "id": "PfFbezZn_m6X"
      }
    },
    {
      "cell_type": "code",
      "source": [
        "def determine_environment():\n",
        "    \"\"\"Determine the working environment and return relevant details.\"\"\"\n",
        "    environment = {}\n",
        "    try:\n",
        "        import google.colab\n",
        "        environment['platform'] = 'colab'\n",
        "        from google.colab import userdata\n",
        "        environment['api_key'] = userdata.get('COMET_API_KEY')\n",
        "        if environment['api_key'] is None:\n",
        "            raise ValueError(\"COMET_API_KEY not found in Colab's secrets\")\n",
        "    except ImportError:\n",
        "        environment['platform'] = 'local'\n",
        "        environment['api_key'] = os.environ.get('COMET_API_KEY')\n",
        "        if environment['api_key'] is None:\n",
        "            raise ValueError(\"COMET_API_KEY not found in environment variables\")\n",
        "    return environment"
      ],
      "metadata": {
        "id": "peSIHBwvKQ1h"
      },
      "execution_count": 3,
      "outputs": []
    },
    {
      "cell_type": "code",
      "source": [
        "# Determine the working environment\n",
        "env = determine_environment()"
      ],
      "metadata": {
        "id": "15iu55v6Kcjy"
      },
      "execution_count": 4,
      "outputs": []
    },
    {
      "cell_type": "code",
      "source": [
        "api_key = env['api_key']"
      ],
      "metadata": {
        "id": "sSsyUgWt_Wf6"
      },
      "execution_count": 10,
      "outputs": []
    },
    {
      "cell_type": "code",
      "source": [
        "# change the project name\n",
        "comet_logger = CometLogger(project_name=\"temporary2\",api_key=api_key)"
      ],
      "metadata": {
        "id": "AKU3QyhKO4rl"
      },
      "execution_count": null,
      "outputs": []
    },
    {
      "cell_type": "markdown",
      "source": [
        "### Download the Bird nest dataset"
      ],
      "metadata": {
        "id": "aqIGYsao9CY4"
      }
    },
    {
      "cell_type": "code",
      "source": [
        "!wget -O Dataset.zip https://www.dropbox.com/s/iczokehl2c5hcjx/nest_images.zip?dl=0"
      ],
      "metadata": {
        "id": "vV_wo_wl9pSD"
      },
      "execution_count": null,
      "outputs": []
    },
    {
      "cell_type": "markdown",
      "source": [
        "### Unzip the downloaded zip file"
      ],
      "metadata": {
        "id": "oOoEHb7d9IKq"
      }
    },
    {
      "cell_type": "code",
      "source": [
        "root_folder = \"/content\" if env['platform'] == 'colab' else os.environ.get('ROOT_FOLDER')"
      ],
      "metadata": {
        "id": "JUcDF5l4AXRG"
      },
      "execution_count": 12,
      "outputs": []
    },
    {
      "cell_type": "code",
      "source": [
        "print(root_folder)"
      ],
      "metadata": {
        "id": "YS7l4GMhAevf"
      },
      "execution_count": null,
      "outputs": []
    },
    {
      "cell_type": "code",
      "source": [
        "zip_file = os.path.join(root_folder, \"Dataset.zip\")\n",
        "extract_folder = os.path.join(root_folder, \"dataset\")\n",
        "\n",
        "Check if the zip file exists\n",
        "if not os.path.exists(zip_file):\n",
        "    raise FileNotFoundError(f\"The zip file {zip_file} does not exist.\")\n",
        "\n",
        "# Create the extract folder if it doesn't exist\n",
        "os.makedirs(extract_folder, exist_ok=True)\n",
        "\n",
        "# Open the zip file and extract its contents\n",
        "with zipfile.ZipFile(zip_file, 'r') as zip_ref:\n",
        "    for file in tqdm(zip_ref.namelist(), desc=\"Extracting\", unit=\"files\"):\n",
        "        zip_ref.extract(file, extract_folder)\n",
        "\n",
        "print(f\"Successfully unzipped {zip_file} to {extract_folder}.\")"
      ],
      "metadata": {
        "id": "aoB6ojzP9qui"
      },
      "execution_count": 15,
      "outputs": []
    },
    {
      "cell_type": "code",
      "source": [
        "# Check if the annotations file has been extracted from the zip file\n",
        "annotations = pd.read_csv(os.path.join(extract_folder,\"nest_data.csv\"))\n",
        "annotations.head()"
      ],
      "metadata": {
        "id": "qxyenEzA9vHs"
      },
      "execution_count": null,
      "outputs": []
    },
    {
      "cell_type": "code",
      "source": [
        "# Gather all the images ending with .JPG\n",
        "image_names = [file for file in os.listdir(extract_folder) if file.endswith('.JPG')]"
      ],
      "metadata": {
        "id": "BgELotoq9zNS"
      },
      "execution_count": 17,
      "outputs": []
    },
    {
      "cell_type": "code",
      "source": [
        "print(f\"Number of images: {len(image_names)}\")"
      ],
      "metadata": {
        "id": "Pg3ezElK92rQ"
      },
      "execution_count": null,
      "outputs": []
    },
    {
      "cell_type": "code",
      "source": [
        "image_names = image_names[:10]"
      ],
      "metadata": {
        "id": "6lYQRTOaLEGb"
      },
      "execution_count": 19,
      "outputs": []
    },
    {
      "cell_type": "code",
      "source": [
        "# Generate crops of the image which has Region of Interest (ROI)\n",
        "crop_dir = os.path.join(os.getcwd(),'train_data_folder')\n",
        "annotation_path=os.path.join(extract_folder,'nest_data.csv')\n",
        "all_annotations=[]\n",
        "for image in image_names:\n",
        "  image_path=os.path.join(extract_folder,image)\n",
        "  annotations=preprocess.split_raster(\n",
        "            path_to_raster=image_path,\n",
        "            annotations_file=annotation_path,\n",
        "            patch_size=400,\n",
        "            patch_overlap=0.05,\n",
        "            base_dir=crop_dir\n",
        "        )\n",
        "  all_annotations.append(annotations)\n",
        "train_annotations = pd.concat(all_annotations, ignore_index=True)"
      ],
      "metadata": {
        "id": "5t7pSf-293rf"
      },
      "execution_count": null,
      "outputs": []
    },
    {
      "cell_type": "code",
      "source": [
        "image_paths = train_annotations.image_path.unique()\n",
        "\n",
        "#split into 70% train, 20% validation and 10% test annotations\n",
        "temp_paths = np.random.choice(image_paths,int(len(image_paths)*0.30))\n",
        "valid_paths = np.random.choice(temp_paths,int(len(image_paths)*0.20))\n",
        "test_paths = [path for path in temp_paths if path not in valid_paths]\n",
        "\n",
        "valid_annotations = train_annotations.loc[train_annotations.image_path.isin(valid_paths)]\n",
        "test_annotations = train_annotations.loc[train_annotations.image_path.isin(test_paths)]\n",
        "train_annotations = train_annotations.loc[~train_annotations.image_path.isin(temp_paths)]"
      ],
      "metadata": {
        "id": "sBoIIt6B-G8B"
      },
      "execution_count": 21,
      "outputs": []
    },
    {
      "cell_type": "code",
      "source": [
        "#View output\n",
        "print(train_annotations.head())\n",
        "print(\"There are {} training crown annotations\".format(train_annotations.shape[0]))\n",
        "print(\"There are {} test crown annotations\".format(valid_annotations.shape[0]))\n",
        "\n",
        "#save to file and create the file dir\n",
        "annotations_file= os.path.join(crop_dir,\"train.csv\")\n",
        "validation_file= os.path.join(crop_dir,\"valid.csv\")\n",
        "test_file = os.path.join(crop_dir,\"test.csv\")\n",
        "\n",
        "#Write window annotations file without a header row, same location as the \"base_dir\" above.\n",
        "train_annotations.to_csv(annotations_file,index=False)\n",
        "valid_annotations.to_csv(validation_file,index=False)\n",
        "test_annotations.to_csv(test_file,index=False)"
      ],
      "metadata": {
        "id": "8HGyeEcB-JGO"
      },
      "execution_count": null,
      "outputs": []
    },
    {
      "cell_type": "code",
      "source": [
        "#initialize the model and change the corresponding config file\n",
        "m = main.deepforest(label_dict={\"Nest\":0})\n",
        "\n",
        "#move to GPU and use all the GPU resources\n",
        "m.config['gpus'] = '-1'\n",
        "m.config[\"train\"][\"csv_file\"] = annotations_file\n",
        "m.config[\"train\"][\"root_dir\"] = os.path.dirname(annotations_file)\n",
        "\n",
        "# Define the learning scheduler type\n",
        "m.config[\"train\"][\"scheduler\"][\"type\"]=\"cosine\"\n",
        "m.config[\"score_thresh\"] = 0.4\n",
        "m.config[\"train\"]['epochs'] = 10\n",
        "m.config[\"validation\"][\"csv_file\"] = validation_file\n",
        "m.config[\"validation\"][\"root_dir\"] = os.path.dirname(validation_file)"
      ],
      "metadata": {
        "id": "l58loc8xyww5"
      },
      "execution_count": null,
      "outputs": []
    },
    {
      "cell_type": "code",
      "source": [
        "m.config[\"train\"][\"scheduler\"][\"type\"]"
      ],
      "metadata": {
        "id": "4Lv2tD9MNnuv"
      },
      "execution_count": null,
      "outputs": []
    },
    {
      "cell_type": "code",
      "source": [
        "#create a pytorch lighting trainer used to training\n",
        "m.create_trainer(logger=comet_logger)\n",
        "#load the lastest release model (RetinaNet)\n",
        "m.use_release()"
      ],
      "metadata": {
        "id": "OE-5NB4c-LNw"
      },
      "execution_count": null,
      "outputs": []
    },
    {
      "cell_type": "code",
      "source": [
        "# Start the training\n",
        "start_time = time.time()\n",
        "m.trainer.fit(m)\n",
        "print(f\"--- Training on GPU: {(time.time() - start_time):.2f} seconds ---\")"
      ],
      "metadata": {
        "id": "S7ew6GOcC11U"
      },
      "execution_count": null,
      "outputs": []
    },
    {
      "cell_type": "code",
      "source": [
        "#save the prediction result to a prediction folder\n",
        "save_dir = os.path.join(os.getcwd(),'pred_result_test')\n",
        "try:\n",
        "  os.mkdir(save_dir)\n",
        "except FileExistsError:\n",
        "  pass\n",
        "results = m.evaluate(test_file, os.path.dirname(test_file), iou_threshold = 0.4, savedir= save_dir)"
      ],
      "metadata": {
        "id": "Kh6MdWdwDDup"
      },
      "execution_count": null,
      "outputs": []
    },
    {
      "cell_type": "code",
      "source": [
        "results['box_precision']"
      ],
      "metadata": {
        "id": "AYIaznaZeji_"
      },
      "execution_count": null,
      "outputs": []
    },
    {
      "cell_type": "code",
      "source": [
        "results['box_recall']"
      ],
      "metadata": {
        "id": "yzFmrnYoen4r"
      },
      "execution_count": null,
      "outputs": []
    },
    {
      "cell_type": "code",
      "source": [
        "# save the results to a csv file\n",
        "results['results'].to_csv('results_test_lr_cosine.csv',index=False)"
      ],
      "metadata": {
        "id": "zq6j3wXLepGt"
      },
      "execution_count": 30,
      "outputs": []
    },
    {
      "cell_type": "code",
      "source": [
        "# Save the model checkpoint\n",
        "m.trainer.save_checkpoint(os.path.join(root_folder,\"checkpoint_epochs_10_cosine_lr_retinanet.pl\"))"
      ],
      "metadata": {
        "id": "08w7RL8EfPe8"
      },
      "execution_count": null,
      "outputs": []
    },
    {
      "cell_type": "code",
      "source": [
        "torch.save(m.model.state_dict(),os.path.join(root_folder,\"weights_cosine_lr\"))"
      ],
      "metadata": {
        "id": "9wRLVBHchOki"
      },
      "execution_count": null,
      "outputs": []
    },
    {
      "cell_type": "code",
      "source": [
        "# Load from the saved checkpoint\n",
        "model = main.deepforest.load_from_checkpoint(os.path.join(root_folder,\"checkpoint_epochs_10_cosine_lr_retinanet.pl\"))"
      ],
      "metadata": {
        "id": "q2oL7HgXhTdW"
      },
      "execution_count": null,
      "outputs": []
    },
    {
      "cell_type": "code",
      "source": [
        "# Add a path to an image to test the model on\n",
        "raster_path=\"\"\n",
        "predicted_raster = model.predict_tile(raster_path, return_plot = True, patch_size=300,patch_overlap=0.25)\n",
        "plt.imshow(predicted_raster)\n",
        "plt.show()"
      ],
      "metadata": {
        "id": "amhOl20SFHUB"
      },
      "execution_count": null,
      "outputs": []
    }
  ]
}